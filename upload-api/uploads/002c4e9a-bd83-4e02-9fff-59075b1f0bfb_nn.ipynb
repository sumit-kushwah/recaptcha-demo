{
 "cells": [
  {
   "cell_type": "code",
   "execution_count": 1,
   "metadata": {},
   "outputs": [],
   "source": [
    "import pandas as pd"
   ]
  },
  {
   "cell_type": "markdown",
   "metadata": {},
   "source": [
    "### Data Extraction\n",
    "\n",
    "Batch Fetching data if stored in feature store."
   ]
  },
  {
   "cell_type": "code",
   "execution_count": 2,
   "metadata": {},
   "outputs": [],
   "source": [
    "df = pd.read_csv('../data/cleaned-data-restaurant.csv')"
   ]
  },
  {
   "cell_type": "markdown",
   "metadata": {},
   "source": [
    "### Data Validation"
   ]
  },
  {
   "cell_type": "code",
   "execution_count": 3,
   "metadata": {},
   "outputs": [],
   "source": [
    "# data validation for numeric type\n",
    "\n",
    "for col in df.columns:\n",
    "    if df[col].dtype == 'float64' or df[col].dtype == 'int64':\n",
    "        pass\n",
    "    else:\n",
    "        print(\"Data validation failed for column: \", col, \" as it is not of numeric type\")\n",
    "        \n",
    "# data validation check for missing values\n",
    "for col in df.columns:\n",
    "    if df[col].isna().sum() > 0:\n",
    "        print(\"Data validation failed for column: \", col, \" as it has missing values\")\n",
    "\n",
    "# data validation for rating should be between 0 and 10\n",
    "for col in df.columns:\n",
    "    if 'Rating' in col:\n",
    "        if df[col].min() < 0 or df[col].max() > 10:\n",
    "            print(\"Data validation failed for column: `\", col, \"` as rating is not between 0 and 10\")"
   ]
  },
  {
   "cell_type": "code",
   "execution_count": 6,
   "metadata": {},
   "outputs": [
    {
     "data": {
      "text/plain": [
       "{'tests': [{'name': 'The Number of Columns With Missing Values',\n",
       "   'description': 'The number of columns with missing values is 0. The test threshold is eq=0.',\n",
       "   'status': 'SUCCESS',\n",
       "   'group': 'data_integrity',\n",
       "   'parameters': {'condition': {'eq': 0}, 'value': 0.0}},\n",
       "  {'name': 'The Number Of Rows With Missing Values',\n",
       "   'description': 'The number of rows with missing values is 0. The test threshold is eq=0.',\n",
       "   'status': 'SUCCESS',\n",
       "   'group': 'data_integrity',\n",
       "   'parameters': {'condition': {'eq': 0}, 'value': 0.0}},\n",
       "  {'name': 'Number of Constant Columns',\n",
       "   'description': 'The number of constant columns is 0. The test threshold is eq=0.',\n",
       "   'status': 'SUCCESS',\n",
       "   'group': 'data_integrity',\n",
       "   'parameters': {'condition': {'eq': 0}, 'value': 0.0}},\n",
       "  {'name': 'Number of Duplicate Rows',\n",
       "   'description': 'The number of duplicate rows is 0. The test threshold is eq=0.',\n",
       "   'status': 'SUCCESS',\n",
       "   'group': 'data_integrity',\n",
       "   'parameters': {'condition': {'eq': 0}, 'value': 0.0}},\n",
       "  {'name': 'Number of Duplicate Columns',\n",
       "   'description': 'The number of duplicate columns is 0. The test threshold is eq=0.',\n",
       "   'status': 'SUCCESS',\n",
       "   'group': 'data_integrity',\n",
       "   'parameters': {'condition': {'eq': 0}, 'value': 0.0}},\n",
       "  {'name': 'Column Types',\n",
       "   'description': 'Cannot compare column types without conditions or a reference',\n",
       "   'status': 'ERROR',\n",
       "   'group': 'data_integrity',\n",
       "   'parameters': None}],\n",
       " 'summary': {'all_passed': False,\n",
       "  'total_tests': 6,\n",
       "  'success_tests': 5,\n",
       "  'failed_tests': 0,\n",
       "  'by_status': {'SUCCESS': 5, 'ERROR': 1}}}"
      ]
     },
     "execution_count": 6,
     "metadata": {},
     "output_type": "execute_result"
    }
   ],
   "source": [
    "## Data stability check using evidently\n",
    "\n",
    "from evidently.test_suite import TestSuite\n",
    "from evidently.tests.base_test import generate_column_tests\n",
    "from evidently.test_preset import DataStabilityTestPreset, NoTargetPerformanceTestPreset\n",
    "from evidently.tests import *\n",
    "\n",
    "tests = TestSuite(tests=[\n",
    "    TestNumberOfColumnsWithMissingValues(),\n",
    "    TestNumberOfRowsWithMissingValues(),\n",
    "    TestNumberOfConstantColumns(),\n",
    "    TestNumberOfDuplicatedRows(),\n",
    "    TestNumberOfDuplicatedColumns(),\n",
    "    TestColumnsType(),\n",
    "])\n",
    "\n",
    "tests.run(reference_data=None, current_data=df)\n",
    "tests.as_dict()"
   ]
  },
  {
   "cell_type": "markdown",
   "metadata": {},
   "source": [
    "### Data Preparation\n",
    "\n",
    "Train and Test Split, Normalization"
   ]
  },
  {
   "cell_type": "code",
   "execution_count": 5,
   "metadata": {},
   "outputs": [],
   "source": [
    "from sklearn.model_selection import train_test_split, GridSearchCV\n",
    "from sklearn.preprocessing import StandardScaler\n",
    "scaler = StandardScaler()\n",
    "\n",
    "X = df.drop('Annual Turnover', axis=1)\n",
    "y = df['Annual Turnover']\n",
    "\n",
    "X_scaled = pd.DataFrame({col: scaler.fit_transform(X[[col]])[:, 0] for col in X.columns})\n",
    "\n",
    "X_train, X_test, y_train, y_test = train_test_split(X_scaled, y, test_size=0.2, random_state=42)"
   ]
  },
  {
   "cell_type": "markdown",
   "metadata": {},
   "source": [
    "### Model Training"
   ]
  },
  {
   "cell_type": "code",
   "execution_count": 7,
   "metadata": {},
   "outputs": [
    {
     "name": "stdout",
     "output_type": "stream",
     "text": [
      "Model: \"sequential_1\"\n",
      "_________________________________________________________________\n",
      " Layer (type)                Output Shape              Param #   \n",
      "=================================================================\n",
      " dense_7 (Dense)             (None, 256)               8192      \n",
      "                                                                 \n",
      " dense_8 (Dense)             (None, 128)               32896     \n",
      "                                                                 \n",
      " dense_9 (Dense)             (None, 64)                8256      \n",
      "                                                                 \n",
      " dense_10 (Dense)            (None, 64)                4160      \n",
      "                                                                 \n",
      " dense_11 (Dense)            (None, 32)                2080      \n",
      "                                                                 \n",
      " dense_12 (Dense)            (None, 16)                528       \n",
      "                                                                 \n",
      " dense_13 (Dense)            (None, 1)                 17        \n",
      "                                                                 \n",
      "=================================================================\n",
      "Total params: 56129 (219.25 KB)\n",
      "Trainable params: 56129 (219.25 KB)\n",
      "Non-trainable params: 0 (0.00 Byte)\n",
      "_________________________________________________________________\n"
     ]
    }
   ],
   "source": [
    "# Importing necessary libraries\n",
    "import tensorflow as tf\n",
    "from keras import Sequential\n",
    "from keras.layers import Dense\n",
    "\n",
    "# Define the neural network architecture\n",
    "model = Sequential([\n",
    "    Dense(256, activation='relu', input_shape=(X_train.shape[1],)),\n",
    "    Dense(128, activation='relu', kernel_initializer='random_uniform'),\n",
    "    Dense(64, activation='relu', kernel_initializer='random_uniform'),\n",
    "    Dense(64, activation='relu', kernel_initializer='random_uniform'),\n",
    "    Dense(32, activation='relu', kernel_initializer='random_uniform'),\n",
    "    Dense(16, activation='relu', kernel_initializer='random_uniform'),\n",
    "    Dense(1)  # Output layer with 1 neuron for regression\n",
    "])\n",
    "\n",
    "# Compile the model\n",
    "model.compile(optimizer='adam', loss='mean_squared_error')\n",
    "\n",
    "# Display the model summary\n",
    "model.summary()"
   ]
  },
  {
   "cell_type": "code",
   "execution_count": 8,
   "metadata": {},
   "outputs": [
    {
     "name": "stdout",
     "output_type": "stream",
     "text": [
      "Epoch 1/50\n",
      "88/88 [==============================] - 1s 1ms/step - loss: 1415470091599872.0000\n",
      "Epoch 2/50\n",
      "88/88 [==============================] - 0s 1ms/step - loss: 1279901059514368.0000\n",
      "Epoch 3/50\n",
      "88/88 [==============================] - 0s 1ms/step - loss: 555226964688896.0000\n",
      "Epoch 4/50\n",
      "88/88 [==============================] - 0s 1ms/step - loss: 447508614479872.0000\n",
      "Epoch 5/50\n",
      "88/88 [==============================] - 0s 1ms/step - loss: 431695752855552.0000\n",
      "Epoch 6/50\n",
      "88/88 [==============================] - 0s 1ms/step - loss: 420624602234880.0000\n",
      "Epoch 7/50\n",
      "88/88 [==============================] - 0s 1ms/step - loss: 413892006117376.0000\n",
      "Epoch 8/50\n",
      "88/88 [==============================] - 0s 1ms/step - loss: 412459231870976.0000\n",
      "Epoch 9/50\n",
      "88/88 [==============================] - 0s 1ms/step - loss: 406900470448128.0000\n",
      "Epoch 10/50\n",
      "88/88 [==============================] - 0s 1ms/step - loss: 403651394797568.0000\n",
      "Epoch 11/50\n",
      "88/88 [==============================] - 0s 1ms/step - loss: 401590179594240.0000\n",
      "Epoch 12/50\n",
      "88/88 [==============================] - 0s 1ms/step - loss: 399352971395072.0000\n",
      "Epoch 13/50\n",
      "88/88 [==============================] - 0s 1ms/step - loss: 398074581090304.0000\n",
      "Epoch 14/50\n",
      "88/88 [==============================] - 0s 1ms/step - loss: 395797174681600.0000\n",
      "Epoch 15/50\n",
      "88/88 [==============================] - 0s 1ms/step - loss: 394408658731008.0000\n",
      "Epoch 16/50\n",
      "88/88 [==============================] - 0s 1ms/step - loss: 392844653101056.0000\n",
      "Epoch 17/50\n",
      "88/88 [==============================] - 0s 1ms/step - loss: 391489456701440.0000\n",
      "Epoch 18/50\n",
      "88/88 [==============================] - 0s 1ms/step - loss: 391432279949312.0000\n",
      "Epoch 19/50\n",
      "88/88 [==============================] - 0s 2ms/step - loss: 388551497744384.0000\n",
      "Epoch 20/50\n",
      "88/88 [==============================] - 0s 1ms/step - loss: 387464300593152.0000\n",
      "Epoch 21/50\n",
      "88/88 [==============================] - 0s 1ms/step - loss: 386052799856640.0000\n",
      "Epoch 22/50\n",
      "88/88 [==============================] - 0s 1ms/step - loss: 385129314779136.0000\n",
      "Epoch 23/50\n",
      "88/88 [==============================] - 0s 1ms/step - loss: 383939306848256.0000\n",
      "Epoch 24/50\n",
      "88/88 [==============================] - 0s 1ms/step - loss: 383372908036096.0000\n",
      "Epoch 25/50\n",
      "88/88 [==============================] - 0s 1ms/step - loss: 381951676514304.0000\n",
      "Epoch 26/50\n",
      "88/88 [==============================] - 0s 1ms/step - loss: 382801878712320.0000\n",
      "Epoch 27/50\n",
      "88/88 [==============================] - 0s 1ms/step - loss: 380230367707136.0000\n",
      "Epoch 28/50\n",
      "88/88 [==============================] - 0s 1ms/step - loss: 379359865077760.0000\n",
      "Epoch 29/50\n",
      "88/88 [==============================] - 0s 1ms/step - loss: 378547814268928.0000\n",
      "Epoch 30/50\n",
      "88/88 [==============================] - 0s 1ms/step - loss: 377621342846976.0000\n",
      "Epoch 31/50\n",
      "88/88 [==============================] - 0s 1ms/step - loss: 377090780168192.0000\n",
      "Epoch 32/50\n",
      "88/88 [==============================] - 0s 1ms/step - loss: 375893692252160.0000\n",
      "Epoch 33/50\n",
      "88/88 [==============================] - 0s 1ms/step - loss: 376266549100544.0000\n",
      "Epoch 34/50\n",
      "88/88 [==============================] - 0s 1ms/step - loss: 373979445460992.0000\n",
      "Epoch 35/50\n",
      "88/88 [==============================] - 0s 1ms/step - loss: 374112186793984.0000\n",
      "Epoch 36/50\n",
      "88/88 [==============================] - 0s 1ms/step - loss: 372675520233472.0000\n",
      "Epoch 37/50\n",
      "88/88 [==============================] - 0s 1ms/step - loss: 371814781943808.0000\n",
      "Epoch 38/50\n",
      "88/88 [==============================] - 0s 1ms/step - loss: 371465379643392.0000\n",
      "Epoch 39/50\n",
      "88/88 [==============================] - 0s 1ms/step - loss: 374327203594240.0000\n",
      "Epoch 40/50\n",
      "88/88 [==============================] - 0s 1ms/step - loss: 370216181694464.0000\n",
      "Epoch 41/50\n",
      "88/88 [==============================] - 0s 1ms/step - loss: 369507142991872.0000\n",
      "Epoch 42/50\n",
      "88/88 [==============================] - 0s 1ms/step - loss: 369371180433408.0000\n",
      "Epoch 43/50\n",
      "88/88 [==============================] - 0s 2ms/step - loss: 368647948206080.0000\n",
      "Epoch 44/50\n",
      "88/88 [==============================] - 0s 1ms/step - loss: 367889752260608.0000\n",
      "Epoch 45/50\n",
      "88/88 [==============================] - 0s 1ms/step - loss: 366453555462144.0000\n",
      "Epoch 46/50\n",
      "88/88 [==============================] - 0s 1ms/step - loss: 366503853555712.0000\n",
      "Epoch 47/50\n",
      "88/88 [==============================] - 0s 1ms/step - loss: 365195432034304.0000\n",
      "Epoch 48/50\n",
      "88/88 [==============================] - 0s 1ms/step - loss: 364898341093376.0000\n",
      "Epoch 49/50\n",
      "88/88 [==============================] - 0s 1ms/step - loss: 364681512353792.0000\n",
      "Epoch 50/50\n",
      "88/88 [==============================] - 0s 1ms/step - loss: 364910353580032.0000\n"
     ]
    }
   ],
   "source": [
    "# Train the model\n",
    "history = model.fit(X_train, y_train, epochs=50, batch_size=32)"
   ]
  },
  {
   "cell_type": "markdown",
   "metadata": {},
   "source": [
    "### Model Evaluation"
   ]
  },
  {
   "cell_type": "code",
   "execution_count": 9,
   "metadata": {},
   "outputs": [
    {
     "name": "stdout",
     "output_type": "stream",
     "text": [
      "22/22 [==============================] - 0s 873us/step\n"
     ]
    }
   ],
   "source": [
    "y_pred = model.predict(X_test)"
   ]
  },
  {
   "cell_type": "code",
   "execution_count": 10,
   "metadata": {},
   "outputs": [
    {
     "name": "stdout",
     "output_type": "stream",
     "text": [
      "19928645.127132114\n"
     ]
    }
   ],
   "source": [
    "from sklearn.metrics import mean_squared_error\n",
    "import numpy as np\n",
    "\n",
    "rmse = np.sqrt(mean_squared_error(y_test, y_pred))\n",
    "\n",
    "print(rmse)"
   ]
  },
  {
   "cell_type": "markdown",
   "metadata": {},
   "source": [
    "### Model Analysis and Model Validation"
   ]
  },
  {
   "cell_type": "code",
   "execution_count": 19,
   "metadata": {},
   "outputs": [],
   "source": [
    "test_df = pd.read_csv('../data/test_separate.csv')\n",
    "test_df.drop('Registration Number', axis=1, inplace=True)\n",
    "test_df = pd.DataFrame({col: scaler.fit_transform(test_df[[col]])[:, 0] for col in test_df.columns})\n"
   ]
  },
  {
   "cell_type": "code",
   "execution_count": 20,
   "metadata": {},
   "outputs": [
    {
     "name": "stdout",
     "output_type": "stream",
     "text": [
      "1/1 [==============================] - 0s 13ms/step\n"
     ]
    }
   ],
   "source": [
    "y_pred_test = model.predict(test_df.iloc[:10, :])"
   ]
  },
  {
   "cell_type": "code",
   "execution_count": 21,
   "metadata": {},
   "outputs": [
    {
     "data": {
      "text/plain": [
       "array([25947874., 35578844., 22312880., 51685184., 52054384., 39747880.,\n",
       "       30223778., 50242480., 21572546., 15681174.], dtype=float32)"
      ]
     },
     "execution_count": 21,
     "metadata": {},
     "output_type": "execute_result"
    }
   ],
   "source": [
    "y_pred_test.reshape(-1)"
   ]
  },
  {
   "cell_type": "markdown",
   "metadata": {},
   "source": [
    "- Neural Network model performing better as compare to decision tree algorithm."
   ]
  }
 ],
 "metadata": {
  "kernelspec": {
   "display_name": "base",
   "language": "python",
   "name": "python3"
  },
  "language_info": {
   "codemirror_mode": {
    "name": "ipython",
    "version": 3
   },
   "file_extension": ".py",
   "mimetype": "text/x-python",
   "name": "python",
   "nbconvert_exporter": "python",
   "pygments_lexer": "ipython3",
   "version": "3.11.4"
  }
 },
 "nbformat": 4,
 "nbformat_minor": 2
}
