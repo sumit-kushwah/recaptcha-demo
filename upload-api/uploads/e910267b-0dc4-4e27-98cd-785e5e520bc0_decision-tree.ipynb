{
 "cells": [
  {
   "cell_type": "code",
   "execution_count": 1,
   "metadata": {},
   "outputs": [],
   "source": [
    "import pandas as pd"
   ]
  },
  {
   "cell_type": "markdown",
   "metadata": {},
   "source": [
    "### 1. Problem Definition\n",
    "Identify the problem that needs to be solved. This could be a prediction task, a classification task, or any other problem that machine learning can solve.\n",
    "\n",
    "In this case study, the problem is to predict restaurant annual turnover."
   ]
  },
  {
   "cell_type": "markdown",
   "metadata": {},
   "source": [
    "### 2. Data Collection\n",
    " Gather the data that will be used to train and test the machine learning model. This could involve scraping data from the web, collecting data through databases."
   ]
  },
  {
   "cell_type": "markdown",
   "metadata": {},
   "source": [
    "### 3. Data Analysis\n",
    "- Also known as exploratory data analysis. This step helps to understand data and build model.\n",
    "- Part of experimentation, it is always a manual step in machine learning lifecycle.\n",
    "- This step identifies data preparation and feature engineering that are needed for model."
   ]
  },
  {
   "cell_type": "code",
   "execution_count": 2,
   "metadata": {},
   "outputs": [],
   "source": [
    "df = pd.read_csv('../data/raw-data-restaurant.csv')"
   ]
  },
  {
   "cell_type": "code",
   "execution_count": 3,
   "metadata": {},
   "outputs": [
    {
     "data": {
      "text/plain": [
       "(3493, 34)"
      ]
     },
     "execution_count": 3,
     "metadata": {},
     "output_type": "execute_result"
    }
   ],
   "source": [
    "df.shape"
   ]
  },
  {
   "cell_type": "code",
   "execution_count": 4,
   "metadata": {},
   "outputs": [
    {
     "data": {
      "text/plain": [
       "Index(['Registration Number', 'Annual Turnover', 'Cuisine', 'City',\n",
       "       'Restaurant Location', 'Opening Day of Restaurant',\n",
       "       'Facebook Popularity Quotient', 'Endorsed By',\n",
       "       'Instagram Popularity Quotient', 'Fire Audit',\n",
       "       'Liquor License Obtained', 'Situated in a Multi Complex',\n",
       "       'Dedicated Parking', 'Open Sitting Available', 'Resturant Tier',\n",
       "       'Restaurant Type', 'Restaurant Theme', 'Restaurant Zomato Rating',\n",
       "       'Restaurant City Tier', 'Order Wait Time', 'Staff Responsivness',\n",
       "       'Value for Money', 'Hygiene Rating', 'Food Rating',\n",
       "       'Overall Restaurant Rating', 'Live Music Rating', 'Comedy Gigs Rating',\n",
       "       'Value Deals Rating', 'Live Sports Rating', 'Ambience', 'Lively',\n",
       "       'Service', 'Comfortablility', 'Privacy'],\n",
       "      dtype='object')"
      ]
     },
     "execution_count": 4,
     "metadata": {},
     "output_type": "execute_result"
    }
   ],
   "source": [
    "df.columns"
   ]
  },
  {
   "cell_type": "code",
   "execution_count": 5,
   "metadata": {},
   "outputs": [
    {
     "name": "stdout",
     "output_type": "stream",
     "text": [
      "<class 'pandas.core.frame.DataFrame'>\n",
      "RangeIndex: 3493 entries, 0 to 3492\n",
      "Data columns (total 34 columns):\n",
      " #   Column                         Non-Null Count  Dtype  \n",
      "---  ------                         --------------  -----  \n",
      " 0   Registration Number            3493 non-null   int64  \n",
      " 1   Annual Turnover                3493 non-null   int64  \n",
      " 2   Cuisine                        3493 non-null   object \n",
      " 3   City                           3493 non-null   object \n",
      " 4   Restaurant Location            3493 non-null   object \n",
      " 5   Opening Day of Restaurant      3493 non-null   object \n",
      " 6   Facebook Popularity Quotient   3394 non-null   float64\n",
      " 7   Endorsed By                    3493 non-null   object \n",
      " 8   Instagram Popularity Quotient  3437 non-null   float64\n",
      " 9   Fire Audit                     3493 non-null   int64  \n",
      " 10  Liquor License Obtained        3493 non-null   int64  \n",
      " 11  Situated in a Multi Complex    3493 non-null   int64  \n",
      " 12  Dedicated Parking              3493 non-null   int64  \n",
      " 13  Open Sitting Available         3493 non-null   int64  \n",
      " 14  Resturant Tier                 3444 non-null   float64\n",
      " 15  Restaurant Type                3493 non-null   object \n",
      " 16  Restaurant Theme               3493 non-null   object \n",
      " 17  Restaurant Zomato Rating       3493 non-null   int64  \n",
      " 18  Restaurant City Tier           3493 non-null   int64  \n",
      " 19  Order Wait Time                3493 non-null   int64  \n",
      " 20  Staff Responsivness            3493 non-null   int64  \n",
      " 21  Value for Money                3493 non-null   int64  \n",
      " 22  Hygiene Rating                 3493 non-null   int64  \n",
      " 23  Food Rating                    3493 non-null   int64  \n",
      " 24  Overall Restaurant Rating      3281 non-null   float64\n",
      " 25  Live Music Rating              2728 non-null   float64\n",
      " 26  Comedy Gigs Rating             1010 non-null   float64\n",
      " 27  Value Deals Rating             786 non-null    float64\n",
      " 28  Live Sports Rating             205 non-null    float64\n",
      " 29  Ambience                       3468 non-null   float64\n",
      " 30  Lively                         3493 non-null   int64  \n",
      " 31  Service                        3493 non-null   int64  \n",
      " 32  Comfortablility                3493 non-null   int64  \n",
      " 33  Privacy                        3493 non-null   int64  \n",
      "dtypes: float64(9), int64(18), object(7)\n",
      "memory usage: 928.0+ KB\n"
     ]
    }
   ],
   "source": [
    "df.info()"
   ]
  },
  {
   "cell_type": "code",
   "execution_count": 6,
   "metadata": {},
   "outputs": [
    {
     "data": {
      "text/plain": [
       "0"
      ]
     },
     "execution_count": 6,
     "metadata": {},
     "output_type": "execute_result"
    }
   ],
   "source": [
    "df.duplicated().sum()"
   ]
  },
  {
   "cell_type": "markdown",
   "metadata": {},
   "source": [
    "#### Univariate Analysis\n",
    "In this type of analysis we analyze a feature to understand the properties of each variable such as its distribution, central tendency, dispersion and presence of outliers."
   ]
  },
  {
   "cell_type": "code",
   "execution_count": 7,
   "metadata": {},
   "outputs": [],
   "source": [
    "import matplotlib.pyplot as plt\n",
    "def univariate_analysis(df, col):\n",
    "    print(\"Unique->\", df[col].nunique())\n",
    "    print(\"Missing Values->\", df[col].isna().sum())\n",
    "    print(\"Type->\", df[col].dtype)\n",
    "    if df[col].dtype == 'object':\n",
    "        print(\"Unique Values->\", df[col].unique())\n",
    "        print(\"Value Counts->\", df[col].value_counts())\n",
    "    if df[col].dtype == 'float64' or df[col].dtype == 'int64':\n",
    "        print(\"Describe->\", df[col].describe())\n",
    "        plt.hist(df[col])\n",
    "        plt.title(col)\n",
    "        plt.show()"
   ]
  },
  {
   "cell_type": "code",
   "execution_count": 60,
   "metadata": {},
   "outputs": [
    {
     "name": "stdout",
     "output_type": "stream",
     "text": [
      "Unique-> 297\n",
      "Missing Values-> 0\n",
      "Type-> object\n",
      "Unique Values-> ['Bangalore' 'Indore' 'Chennai' 'Gurgaon' 'Manesar' 'Hyderabad' 'Banglore'\n",
      " 'Noida' 'Kolkata' 'Pune' '-1' 'mohali' 'Jhansi' 'Delhi' 'Hyderabad '\n",
      " 'Bangalore ' 'noida' 'delhi' 'Bhubaneswar' 'Navi Mumbai' 'Mumbai'\n",
      " 'New Delhi' 'Mangalore' 'Rewari' 'Gaziabaad' 'Bhiwadi' 'Mysore' 'Rajkot'\n",
      " 'Greater Noida' 'Jaipur' 'noida ' 'HYDERABAD' 'mysore' 'THANE'\n",
      " 'Maharajganj' 'Thiruvananthapuram' 'Punchkula' 'Bhubaneshwar' 'Pune '\n",
      " 'coimbatore' 'Dhanbad' 'Lucknow' 'Trivandrum' 'kolkata' 'mumbai'\n",
      " 'Gandhi Nagar' 'Una' 'Daman and Diu' 'chennai' 'GURGOAN' 'vsakhapttnam'\n",
      " 'pune' 'Nagpur' 'Bhagalpur' 'new delhi - jaisalmer' 'Coimbatore'\n",
      " 'Ahmedabad' 'Kochi/Cochin' 'Bankura' 'Bengaluru' 'Mysore ' 'Kanpur '\n",
      " 'jaipur' 'Gurgaon ' 'bangalore' 'CHENNAI' 'Vijayawada' 'Kochi' 'Beawar'\n",
      " 'Alwar' 'NOIDA' 'Greater noida' 'Siliguri ' 'raipur' 'gurgaon' 'Bhopal'\n",
      " 'Faridabad' 'Jodhpur' 'udaipur' 'Muzaffarpur' 'Kolkata`' 'Bulandshahar'\n",
      " 'Haridwar' 'Raigarh' 'Visakhapatnam' 'Jabalpur' 'hyderabad' 'Unnao'\n",
      " 'KOLKATA' 'Thane' 'Aurangabad' 'Belgaum' 'gurgoan' 'Dehradun' 'Rudrapur'\n",
      " 'Jamshedpur' 'vizag' 'Nouda' 'Dharamshala' 'Banagalore' 'Hissar' 'Ranchi'\n",
      " 'BANGALORE' 'Madurai' 'Gurga' 'Chandigarh' 'Australia' ' Chennai'\n",
      " 'CHEYYAR' 'Mumbai ' 'sonepat' 'Ghaziabad' 'Pantnagar' 'Siliguri'\n",
      " 'mumbai ' 'Jagdalpur' 'Chennai ' 'angul' 'Baroda' ' ariyalur' 'Jowai'\n",
      " 'Kochi/Cochin, Chennai and Coimbatore' 'bhubaneswar' 'Neemrana' 'VIZAG'\n",
      " 'Tirupathi' 'Lucknow ' 'Ahmedabad ' 'Bhubneshwar' 'Noida ' 'pune '\n",
      " 'Calicut' 'Gandhinagar' 'LUCKNOW' 'Dubai' 'bengaluru' 'MUMBAI'\n",
      " 'Ahmednagar' 'Nashik' 'New delhi' 'Bellary' 'Ludhiana' 'New Delhi '\n",
      " 'Muzaffarnagar' 'BHOPAL' 'Gurgoan' 'Gagret' 'Indirapuram, Ghaziabad'\n",
      " 'Gwalior' 'new delhi' 'TRIVANDRUM' 'Chennai & Mumbai' 'Rajasthan'\n",
      " 'Sonipat' 'Bareli' 'Kanpur' 'Hospete' 'Miryalaguda' ' mumbai' 'Dharuhera'\n",
      " 'lucknow' 'meerut' 'dehradun' 'Ganjam' 'Hubli' 'bangalore ' 'NAVI MUMBAI'\n",
      " 'ncr' 'Agra' 'Trichy' 'kudankulam ,tarapur' 'Ongole' 'Sambalpur'\n",
      " 'Pondicherry' 'Bundi' 'SADULPUR,RAJGARH,DISTT-CHURU,RAJASTHAN' 'AM'\n",
      " 'Bikaner' 'Vadodara' 'BAngalore' 'india' 'Asansol' 'Tirunelvelli'\n",
      " 'Ernakulam' 'DELHI' 'Bilaspur' 'Chandrapur' 'Nanded' 'Dharmapuri'\n",
      " 'Vandavasi' 'Rohtak' 'trivandrum' 'Nagpur ' 'Udaipur' 'Patna' 'banglore'\n",
      " 'indore' 'Salem' 'Nasikcity' 'Gandhinagar ' 'Technopark, Trivandrum'\n",
      " 'Bharuch' 'Tornagallu' 'Raipur' 'Kolkata ' 'Jaspur' 'Burdwan'\n",
      " 'Bhubaneswar ' 'Shimla' 'ahmedabad' 'Gajiabaad' 'Jammu' 'Shahdol'\n",
      " 'Muvattupuzha' 'Secunderabad' 'Ratnagiri' 'Jhajjar' 'Gulbarga'\n",
      " 'hyderabad(bhadurpally)' 'Nalagarh' 'Chandigarh ' 'Jaipur ' ' Delhi'\n",
      " 'PATNA' 'SHAHDOL' 'Chennai, Bangalore' 'Bhopal ' 'Jamnagar' 'PUNE'\n",
      " 'Tirupati' 'Gonda' 'jamnagar' 'chennai ' 'orissa' 'kharagpur'\n",
      " 'Trivandrum ' 'Navi Mumbai , Hyderabad' 'Joshimath' 'chandigarh'\n",
      " 'Bathinda' 'kala amb ' 'Karnal' 'LONDON' 'Kota' 'Panchkula' 'Baddi HP'\n",
      " 'Nagari' 'Mettur, Tamil Nadu ' 'Durgapur' 'pondi' 'Surat' 'Kurnool'\n",
      " 'kolhapur' 'Madurai ' 'GREATER NOIDA' 'Bhilai' ' Pune' 'hderabad' 'KOTA'\n",
      " 'thane' 'Vizag' 'Bahadurgarh' 'Rayagada, Odisha' 'kakinada' 'GURGAON'\n",
      " 'Varanasi' 'punr' 'Nellore' 'patna' 'Meerut' 'hyderabad ' 'Sahibabad'\n",
      " 'Howrah' 'BHUBANESWAR' 'Trichur' 'Ambala' 'Khopoli' 'keral' 'Roorkee'\n",
      " 'Greater NOIDA' 'Navi mumbai' 'ghaziabad' 'Allahabad' 'Delhi/NCR'\n",
      " 'Panchkula ' 'Ranchi ' 'Jalandhar' 'manesar' 'vapi' 'PILANI'\n",
      " 'muzzafarpur' 'RAS AL KHAIMAH' 'bihar' 'singaruli' 'KANPUR' 'Banglore '\n",
      " 'pondy']\n",
      "Value Counts-> Bangalore    553\n",
      "-1           396\n",
      "Noida        324\n",
      "Hyderabad    295\n",
      "Pune         262\n",
      "            ... \n",
      "angul          1\n",
      "Baroda         1\n",
      " ariyalur      1\n",
      "Jowai          1\n",
      "Hissar         1\n",
      "Name: City, Length: 297, dtype: int64\n"
     ]
    }
   ],
   "source": [
    "univariate_analysis(df, 'City')"
   ]
  },
  {
   "cell_type": "code",
   "execution_count": 61,
   "metadata": {},
   "outputs": [
    {
     "name": "stdout",
     "output_type": "stream",
     "text": [
      "Unique-> 2\n",
      "Missing Values-> 0\n",
      "Type-> object\n",
      "Unique Values-> ['Near Business Hub' 'Near Party Hub']\n",
      "Value Counts-> Near Party Hub       2658\n",
      "Near Business Hub     835\n",
      "Name: Restaurant Location, dtype: int64\n"
     ]
    }
   ],
   "source": [
    "univariate_analysis(df, 'Restaurant Location')"
   ]
  },
  {
   "cell_type": "code",
   "execution_count": 62,
   "metadata": {},
   "outputs": [
    {
     "name": "stdout",
     "output_type": "stream",
     "text": [
      "Unique-> 1778\n",
      "Missing Values-> 0\n",
      "Type-> object\n",
      "Unique Values-> ['14/02/09' '29/09/08' '30/07/11' ... '07/06/07' '27/06/13' '15/03/07']\n",
      "Value Counts-> 27/12/09    10\n",
      "10/07/10     9\n",
      "08/12/10     8\n",
      "05/06/10     7\n",
      "29/04/10     7\n",
      "            ..\n",
      "02/06/04     1\n",
      "29/01/10     1\n",
      "11/10/05     1\n",
      "27/10/05     1\n",
      "01/10/08     1\n",
      "Name: Opening Day of Restaurant, Length: 1778, dtype: int64\n"
     ]
    }
   ],
   "source": [
    "univariate_analysis(df, 'Opening Day of Restaurant')"
   ]
  },
  {
   "cell_type": "code",
   "execution_count": 63,
   "metadata": {},
   "outputs": [
    {
     "name": "stdout",
     "output_type": "stream",
     "text": [
      "Unique-> 776\n",
      "Missing Values-> 99\n",
      "Type-> float64\n",
      "Describe-> count    3394.000000\n",
      "mean       77.938715\n",
      "std         9.829169\n",
      "min        43.000000\n",
      "25%        72.000000\n",
      "50%        79.000000\n",
      "75%        85.745000\n",
      "max        97.760000\n",
      "Name: Facebook Popularity Quotient, dtype: float64\n"
     ]
    },
    {
     "data": {
      "image/png": "[encoded data removed]",
      "text/plain": [
       "<Figure size 640x480 with 1 Axes>"
      ]
     },
     "metadata": {},
     "output_type": "display_data"
    }
   ],
   "source": [
    "univariate_analysis(df, 'Facebook Popularity Quotient')"
   ]
  },
  {
   "cell_type": "code",
   "execution_count": 64,
   "metadata": {},
   "outputs": [
    {
     "name": "stdout",
     "output_type": "stream",
     "text": [
      "Unique-> 3\n",
      "Missing Values-> 0\n",
      "Type-> object\n",
      "Unique Values-> ['Not Specific' 'Tier A Celebrity' 'Local Celebrity']\n",
      "Value Counts-> Not Specific        1961\n",
      "Tier A Celebrity    1500\n",
      "Local Celebrity       32\n",
      "Name: Endorsed By, dtype: int64\n"
     ]
    }
   ],
   "source": [
    "univariate_analysis(df, 'Endorsed By')"
   ]
  },
  {
   "cell_type": "code",
   "execution_count": 65,
   "metadata": {},
   "outputs": [
    {
     "name": "stdout",
     "output_type": "stream",
     "text": [
      "Unique-> 742\n",
      "Missing Values-> 56\n",
      "Type-> float64\n",
      "Describe-> count    3437.000000\n",
      "mean       74.404684\n",
      "std        10.940327\n",
      "min        40.000000\n",
      "25%        66.000000\n",
      "50%        74.050000\n",
      "75%        82.400000\n",
      "max        98.700000\n",
      "Name: Instagram Popularity Quotient, dtype: float64\n"
     ]
    },
    {
     "data": {
      "image/png": "[encoded data removed]",
      "text/plain": [
       "<Figure size 640x480 with 1 Axes>"
      ]
     },
     "metadata": {},
     "output_type": "display_data"
    }
   ],
   "source": [
    "univariate_analysis(df, 'Instagram Popularity Quotient')"
   ]
  },
  {
   "cell_type": "code",
   "execution_count": 66,
   "metadata": {},
   "outputs": [
    {
     "name": "stdout",
     "output_type": "stream",
     "text": [
      "Unique-> 2\n",
      "Missing Values-> 0\n",
      "Type-> int64\n",
      "Describe-> count    3493.000000\n",
      "mean        0.788720\n",
      "std         0.408275\n",
      "min         0.000000\n",
      "25%         1.000000\n",
      "50%         1.000000\n",
      "75%         1.000000\n",
      "max         1.000000\n",
      "Name: Fire Audit, dtype: float64\n"
     ]
    },
    {
     "data": {
      "image/png": "[encoded data removed]",
      "text/plain": [
       "<Figure size 640x480 with 1 Axes>"
      ]
     },
     "metadata": {},
     "output_type": "display_data"
    }
   ],
   "source": [
    "univariate_analysis(df, 'Fire Audit')"
   ]
  },
  {
   "cell_type": "code",
   "execution_count": 67,
   "metadata": {},
   "outputs": [
    {
     "name": "stdout",
     "output_type": "stream",
     "text": [
      "Unique-> 6\n",
      "Missing Values-> 0\n",
      "Type-> int64\n",
      "Describe-> count    3493.000000\n",
      "mean        2.696536\n",
      "std         0.787271\n",
      "min         0.000000\n",
      "25%         2.000000\n",
      "50%         3.000000\n",
      "75%         3.000000\n",
      "max         5.000000\n",
      "Name: Restaurant Zomato Rating, dtype: float64\n"
     ]
    },
    {
     "data": {
      "image/png": "[encoded data removed]",
      "text/plain": [
       "<Figure size 640x480 with 1 Axes>"
      ]
     },
     "metadata": {},
     "output_type": "display_data"
    }
   ],
   "source": [
    "univariate_analysis(df, 'Restaurant Zomato Rating')"
   ]
  },
  {
   "cell_type": "code",
   "execution_count": 68,
   "metadata": {},
   "outputs": [
    {
     "name": "stdout",
     "output_type": "stream",
     "text": [
      "Unique-> 10\n",
      "Missing Values-> 0\n",
      "Type-> int64\n",
      "Describe-> count    3493.000000\n",
      "mean        5.509591\n",
      "std         2.854476\n",
      "min         1.000000\n",
      "25%         3.000000\n",
      "50%         5.000000\n",
      "75%         8.000000\n",
      "max        10.000000\n",
      "Name: Order Wait Time, dtype: float64\n"
     ]
    },
    {
     "data": {
      "image/png": "[encoded data removed]",
      "text/plain": [
       "<Figure size 640x480 with 1 Axes>"
      ]
     },
     "metadata": {},
     "output_type": "display_data"
    }
   ],
   "source": [
    "univariate_analysis(df, 'Order Wait Time')"
   ]
  },
  {
   "cell_type": "code",
   "execution_count": 69,
   "metadata": {},
   "outputs": [
    {
     "name": "stdout",
     "output_type": "stream",
     "text": [
      "Unique-> 8\n",
      "Missing Values-> 0\n",
      "Type-> int64\n",
      "Describe-> count    3493.000000\n",
      "mean        4.538506\n",
      "std         1.093832\n",
      "min         1.000000\n",
      "25%         4.000000\n",
      "50%         5.000000\n",
      "75%         5.000000\n",
      "max         8.000000\n",
      "Name: Staff Responsivness, dtype: float64\n"
     ]
    },
    {
     "data": {
      "image/png": "[encoded data removed]",
      "text/plain": [
       "<Figure size 640x480 with 1 Axes>"
      ]
     },
     "metadata": {},
     "output_type": "display_data"
    }
   ],
   "source": [
    "univariate_analysis(df, 'Staff Responsivness')"
   ]
  },
  {
   "cell_type": "code",
   "execution_count": 70,
   "metadata": {},
   "outputs": [
    {
     "name": "stdout",
     "output_type": "stream",
     "text": [
      "Unique-> 11\n",
      "Missing Values-> 0\n",
      "Type-> int64\n",
      "Describe-> count    3493.000000\n",
      "mean        4.546808\n",
      "std         1.877063\n",
      "min         0.000000\n",
      "25%         3.000000\n",
      "50%         5.000000\n",
      "75%         6.000000\n",
      "max        10.000000\n",
      "Name: Service, dtype: float64\n"
     ]
    },
    {
     "data": {
      "image/png": "[encoded data removed]",
      "text/plain": [
       "<Figure size 640x480 with 1 Axes>"
      ]
     },
     "metadata": {},
     "output_type": "display_data"
    }
   ],
   "source": [
    "univariate_analysis(df, 'Service')"
   ]
  },
  {
   "cell_type": "markdown",
   "metadata": {},
   "source": [
    "#### Bi-variate Analysis\n",
    "In this type of analysis we analyse two features to understand the relationship."
   ]
  },
  {
   "cell_type": "code",
   "execution_count": 71,
   "metadata": {},
   "outputs": [
    {
     "data": {
      "text/plain": [
       "<Axes: xlabel='Live Sports Rating', ylabel='Annual Turnover'>"
      ]
     },
     "execution_count": 71,
     "metadata": {},
     "output_type": "execute_result"
    },
    {
     "data": {
      "image/png": "[encoded data removed]",
      "text/plain": [
       "<Figure size 640x480 with 1 Axes>"
      ]
     },
     "metadata": {},
     "output_type": "display_data"
    }
   ],
   "source": [
    "import seaborn as sns\n",
    "sns.boxplot(df, x='Live Sports Rating', y='Annual Turnover')"
   ]
  },
  {
   "cell_type": "code",
   "execution_count": 72,
   "metadata": {},
   "outputs": [
    {
     "data": {
      "text/plain": [
       "<Axes: xlabel='Restaurant Zomato Rating', ylabel='Annual Turnover'>"
      ]
     },
     "execution_count": 72,
     "metadata": {},
     "output_type": "execute_result"
    },
    {
     "data": {
      "image/png": "[encoded data removed]",
      "text/plain": [
       "<Figure size 640x480 with 1 Axes>"
      ]
     },
     "metadata": {},
     "output_type": "display_data"
    }
   ],
   "source": [
    "sns.histplot(df, y='Annual Turnover', x='Restaurant Zomato Rating')"
   ]
  },
  {
   "cell_type": "markdown",
   "metadata": {},
   "source": [
    "### 4. Data Preparation and Feature Engineering\n",
    "Usually in data preparation we perform following tasks.\n",
    "- Remove duplicates, handle missing or incorrect data.\n",
    "- Handling of Outliers.\n",
    "- Removing irrlevant features.\n",
    "- Transformation of variables.\n",
    "- Create new features from existing data.\n",
    "- Encoding categorical variables.\n",
    "- Splitting the data into train, test and validation set."
   ]
  },
  {
   "cell_type": "code",
   "execution_count": 8,
   "metadata": {},
   "outputs": [],
   "source": [
    "# Dropping columns\n",
    "cols = ['Liquor License Obtained', 'Live Sports Rating', 'Registration Number']\n",
    "\n",
    "df.drop(cols, axis=1, inplace=True)"
   ]
  },
  {
   "cell_type": "code",
   "execution_count": 9,
   "metadata": {},
   "outputs": [],
   "source": [
    "# Replace missing values with median\n",
    "\n",
    "cols = ['Facebook Popularity Quotient', 'Instagram Popularity Quotient', 'Resturant Tier',\n",
    "        'Live Music Rating', 'Comedy Gigs Rating', 'Value Deals Rating', 'Ambience', 'Overall Restaurant Rating']\n",
    "\n",
    "for col in cols:\n",
    "    df[col].fillna(df[col].median(), inplace=True)"
   ]
  },
  {
   "cell_type": "code",
   "execution_count": 10,
   "metadata": {},
   "outputs": [],
   "source": [
    "# city column handling\n",
    "\n",
    "# List of locations with inconsistent names\n",
    "locations = ['Bangalore', 'Indore', 'Chennai', 'Gurgaon', 'Manesar', 'Hyderabad', 'Banglore', 'Noida', 'Kolkata', 'Pune', '-1', 'mohali', 'Jhansi', 'Delhi', 'Hyderabad ', 'Bangalore ', 'noida', 'delhi', 'Bhubaneswar', 'Navi Mumbai', 'Mumbai', 'New Delhi', 'Mangalore', 'Rewari', 'Gaziabaad', 'Bhiwadi', 'Mysore', 'Rajkot', 'Greater Noida', 'Jaipur', 'noida ', 'HYDERABAD', 'mysore', 'THANE', 'Maharajganj', 'Thiruvananthapuram', 'Punchkula', 'Bhubaneshwar', 'Pune ', 'coimbatore', 'Dhanbad', 'Lucknow', 'Trivandrum', 'kolkata', 'mumbai', 'Gandhi Nagar', 'Una', 'Daman and Diu', 'chennai', 'GURGOAN', 'vsakhapttnam', 'pune', 'Nagpur', 'Bhagalpur', 'new delhi - jaisalmer', 'Coimbatore', 'Ahmedabad', 'Kochi/Cochin', 'Bankura', 'Bengaluru', 'Mysore ', 'Kanpur ', 'jaipur', 'Gurgaon ', 'bangalore', 'CHENNAI', 'Vijayawada', 'Kochi', 'Beawar', 'Alwar', 'NOIDA', 'Greater noida', 'Siliguri ', 'raipur', 'gurgaon', 'Bhopal', 'Faridabad', 'Jodhpur', 'udaipur', 'Muzaffarpur', 'Kolkata`', 'Bulandshahar', 'Haridwar', 'Raigarh', 'Visakhapatnam', 'Jabalpur', 'hyderabad', 'Unnao', 'KOLKATA', 'Thane', 'Aurangabad', 'Belgaum', 'gurgoan', 'Dehradun', 'Rudrapur', 'Jamshedpur', 'vizag', 'Nouda', 'Dharamshala', 'Banagalore', 'Hissar', 'Ranchi', 'BANGALORE', 'Madurai', 'Gurga', 'Chandigarh', 'Australia', ' Chennai', 'CHEYYAR', 'Mumbai ', 'sonepat', 'Ghaziabad', 'Pantnagar', 'Siliguri', 'mumbai ', 'Jagdalpur', 'Chennai ', 'angul', 'Baroda', ' ariyalur', 'Jowai', 'Kochi/Cochin, Chennai and Coimbatore', 'bhubaneswar', 'Neemrana', 'VIZAG', 'Tirupathi', 'Lucknow ', 'Ahmedabad ', 'Bhubneshwar', 'Noida ', 'pune ', 'Calicut', 'Gandhinagar', 'LUCKNOW', 'Dubai', 'bengaluru', 'MUMBAI', 'Ahmednagar', 'Nashik', 'New delhi', 'Bellary', 'Ludhiana', 'New Delhi ', 'Muzaffarnagar', 'BHOPAL', 'Gurgoan', 'Gagret', 'Indirapuram, Ghaziabad', 'Gwalior', 'new delhi', 'TRIVANDRUM', 'Chennai & Mumbai', 'Rajasthan', 'Sonipat', 'Bareli', 'Kanpur', 'Hospete', 'Miryalaguda', ' mumbai', 'Dharuhera', 'lucknow', 'meerut', 'dehradun', 'Ganjam', 'Hubli', 'bangalore ', 'NAVI MUMBAI', 'ncr', 'Agra', 'Trichy', 'kudankulam ,tarapur', 'Ongole', 'Sambalpur', 'Pondicherry', 'Bundi', 'SADULPUR,RAJGARH,DISTT-CHURU,RAJASTHAN', 'AM', 'Bikaner', 'Vadodara', 'BAngalore', 'india', 'Asansol', 'Tirunelvelli', 'Ernakulam', 'DELHI', 'Bilaspur', 'Chandrapur', 'Nanded', 'Dharmapuri', 'Vandavasi', 'Rohtak', 'trivandrum', 'Nagpur ', 'Udaipur', 'Patna', 'banglore', 'indore', 'Salem', 'Nasikcity', 'Gandhinagar ', 'Technopark, Trivandrum', 'Bharuch', 'Tornagallu', 'Raipur', 'Kolkata ', 'Jaspur', 'Burdwan', 'Bhubaneswar ', 'Shimla', 'ahmedabad', 'Gajiabaad', 'Jammu', 'Shahdol', 'Muvattupuzha', 'Secunderabad', 'Ratnagiri', 'Jhajjar', 'Gulbarga', 'hyderabad(bhadurpally)', 'Nalagarh', 'Chandigarh ', 'Jaipur ', ' Delhi', 'PATNA', 'SHAHDOL', 'Chennai, Bangalore', 'Bhopal ', 'Jamnagar', 'PUNE', 'Tirupati', 'Gonda', 'jamnagar', 'chennai ', 'orissa', 'kharagpur', 'Trivandrum ', 'Navi Mumbai , Hyderabad', 'Joshimath', 'chandigarh', 'Bathinda', 'kala amb ', 'Karnal', 'LONDON', 'Kota', 'Panchkula', 'Baddi HP', 'Nagari', 'Mettur, Tamil Nadu ', 'Durgapur', 'pondi', 'Surat', 'Kurnool', 'kolhapur', 'Madurai ', 'GREATER NOIDA', 'Bhilai', ' Pune', 'hderabad', 'KOTA', 'thane', 'Vizag', 'Bahadurgarh', 'Rayagada, Odisha', 'kakinada', 'GURGAON', 'Varanasi', 'punr', 'Nellore', 'patna', 'Meerut', 'hyderabad ', 'Sahibabad', 'Howrah', 'BHUBANESWAR', 'Trichur', 'Ambala', 'Khopoli', 'keral', 'Roorkee', 'Greater NOIDA', 'Navi mumbai', 'ghaziabad', 'Allahabad', 'Delhi/NCR', 'Panchkula ', 'Ranchi ', 'Jalandhar', 'manesar', 'vapi', 'PILANI', 'muzzafarpur', 'RAS AL KHAIMAH', 'bihar', 'singaruli', 'KANPUR', 'Banglore ', 'pondy']\n",
    "\n",
    "# Unique and consistent names\n",
    "unique_names = {\n",
    "    'Bangalore': 'Bangalore',\n",
    "    'Indore': 'Indore',\n",
    "    'Chennai': 'Chennai',\n",
    "    'Gurgaon': 'Gurgaon',\n",
    "    'Manesar': 'Manesar',\n",
    "    'Hyderabad': 'Hyderabad',\n",
    "    'Banglore': 'Bangalore',\n",
    "    'Noida': 'Noida',\n",
    "    'Kolkata': 'Kolkata',\n",
    "    'Pune': 'Pune',\n",
    "    '-1': '-1',\n",
    "    'Mohali': 'Mohali',\n",
    "    'Jhansi': 'Jhansi',\n",
    "    'Delhi': 'Delhi',\n",
    "    'Navi Mumbai': 'Navi Mumbai',\n",
    "    'Mumbai': 'Mumbai',\n",
    "    'New Delhi': 'New Delhi',\n",
    "    'Mangalore': 'Mangalore',\n",
    "    'Rewari': 'Rewari',\n",
    "    'Gaziabaad': 'Ghaziabad',\n",
    "    'Bhiwadi': 'Bhiwadi',\n",
    "    'Mysore': 'Mysore',\n",
    "    'Rajkot': 'Rajkot',\n",
    "    'Greater Noida': 'Greater Noida',\n",
    "    'Jaipur': 'Jaipur',\n",
    "    'Thane': 'Thane',\n",
    "    'Maharajganj': 'Maharajganj',\n",
    "    'Thiruvananthapuram': 'Thiruvananthapuram',\n",
    "    'Punchkula': 'Panchkula',\n",
    "    'Bhubaneshwar': 'Bhubaneswar',\n",
    "    'Coimbatore': 'Coimbatore',\n",
    "    'Dhanbad': 'Dhanbad',\n",
    "    'Lucknow': 'Lucknow',\n",
    "    'Trivandrum': 'Thiruvananthapuram',\n",
    "    'Mumbai': 'Mumbai',\n",
    "    'Gandhi Nagar': 'Gandhinagar',\n",
    "    'Una': 'Una',\n",
    "    'Daman and Diu': 'Daman and Diu',\n",
    "    'Vsakhapttnam': 'Visakhapatnam',\n",
    "    'Nagpur': 'Nagpur',\n",
    "    'Bhagalpur': 'Bhagalpur',\n",
    "    'New Delhi - Jaisalmer': 'New Delhi',\n",
    "    'Ahmedabad': 'Ahmedabad',\n",
    "    'Kochi/Cochin': 'Kochi',\n",
    "    'Bankura': 'Bankura',\n",
    "    'Bengaluru': 'Bangalore',\n",
    "    'Mysore ': 'Mysore',\n",
    "    'Kanpur ': 'Kanpur',\n",
    "    'Vijayawada': 'Vijayawada',\n",
    "    'Beawar': 'Beawar',\n",
    "    'Alwar': 'Alwar',\n",
    "    'Siliguri ': 'Siliguri',\n",
    "    'Raipur': 'Raipur',\n",
    "    'Bhopal': 'Bhopal',\n",
    "    'Faridabad': 'Faridabad',\n",
    "    'Jodhpur': 'Jodhpur',\n",
    "    'Udaipur': 'Udaipur',\n",
    "    'Muzaffarpur': 'Muzaffarpur',\n",
    "    'Bulandshahar': 'Bulandshahar',\n",
    "    'Haridwar': 'Haridwar',\n",
    "    'Visakhapatnam': 'Visakhapatnam',\n",
    "    'Jabalpur': 'Jabalpur',\n",
    "    'Unnao': 'Unnao',\n",
    "    'Aurangabad': 'Aurangabad',\n",
    "    'Belgaum': 'Belgaum',\n",
    "    'Dehradun': 'Dehradun',\n",
    "    'Rudrapur': 'Rudrapur',\n",
    "    'Jamshedpur': 'Jamshedpur',\n",
    "    'Vizag': 'Visakhapatnam',\n",
    "    'Nouda': 'Noida',\n",
    "    'Dharamshala': 'Dharamshala',\n",
    "    'Banagalore': 'Bangalore',\n",
    "    'Hissar': 'Hissar',\n",
    "    'Ranchi': 'Ranchi',\n",
    "    'Madurai': 'Madurai',\n",
    "    'Gurga': 'Gurgaon',\n",
    "    'Chandigarh': 'Chandigarh',\n",
    "    'Chennai': 'Chennai',\n",
    "    'Australia': 'Australia',\n",
    "    'Cheyyar': 'Cheyyar',\n",
    "    'Sonepat': 'Sonipat',\n",
    "    'Ghaziabad': 'Ghaziabad',\n",
    "    'Pantnagar': 'Pantnagar',\n",
    "    'Jagdalpur': 'Jagdalpur',\n",
    "    'Angul': 'Angul',\n",
    "    'Baroda': 'Vadodara',\n",
    "    'Ariyalur': 'Ariyalur',\n",
    "    'Jowai': 'Jowai',\n",
    "    'Kochi/Cochin, Chennai and Coimbatore': 'Kochi',\n",
    "    'Bhubaneswar': 'Bhubaneswar',\n",
    "    'Neemrana': 'Neemrana',\n",
    "    'Tirupathi': 'Tirupati',\n",
    "    'Lucknow ': 'Lucknow',\n",
    "    'Bhubneshwar': 'Bhubaneswar',\n",
    "    'Noida ': 'Noida',\n",
    "    'Calicut': 'Kozhikode',\n",
    "    'Gandhinagar': 'Gandhinagar',\n",
    "    'Dubai': 'Dubai',\n",
    "    'Pune': 'Pune',\n",
    "    'Mumbai': 'Mumbai',\n",
    "    'Ahmednagar': 'Ahmednagar',\n",
    "    'Nashik': 'Nashik',\n",
    "    'Bellary': 'Bellary',\n",
    "    'Ludhiana': 'Ludhiana',\n",
    "    'Muzaffarnagar': 'Muzaffarnagar',\n",
    "    'Bhopal': 'Bhopal',\n",
    "    'Gagret': 'Gagret',\n",
    "    'Indirapuram, Ghaziabad': 'Ghaziabad',\n",
    "    'Gwalior': 'Gwalior',\n",
    "    'Rajasthan': 'Rajasthan',\n",
    "    'Sonipat': 'Sonipat',\n",
    "    'Bareli': 'Bareilly',\n",
    "    'Kanpur': 'Kanpur',\n",
    "    'Hospete': 'Hospet',\n",
    "    'Miryalaguda': 'Miryalaguda',\n",
    "    'Dharuhera': 'Dharuhera',\n",
    "    'Meerut': 'Meerut',\n",
    "    'Dehradun': 'Dehradun',\n",
    "    'Ganjam': 'Ganjam',\n",
    "    'Hubli': 'Hubballi',\n",
    "    'Navi Mumbai': 'Navi Mumbai',\n",
    "    'NCR': 'NCR',\n",
    "    'Agra': 'Agra',\n",
    "    'Trichy': 'Tiruchirappalli',\n",
    "    'Kudankulam, Tarapur': 'Tarapur',\n",
    "    'Ongole': 'Ongole',\n",
    "    'Sambalpur': 'Sambalpur',\n",
    "    'Pondicherry': 'Puducherry',\n",
    "    'Bundi': 'Bundi',\n",
    "    'Sadulpur, Rajgarh, Distt-Churu, Rajasthan': 'Sadulpur',\n",
    "    'AM': 'Am',\n",
    "    'Bikaner': 'Bikaner',\n",
    "    'Vadodara': 'Vadodara',\n",
    "    'Asansol': 'Asansol',\n",
    "    'Tirunelvelli': 'Tirunelveli',\n",
    "    'Ernakulam': 'Ernakulam',\n",
    "    'Bilaspur': 'Bilaspur',\n",
    "    'Chandrapur': 'Chandrapur',\n",
    "    'Nanded': 'Nanded',\n",
    "    'Dharmapuri': 'Dharmapuri',\n",
    "    'Vandavasi': 'Vandavasi',\n",
    "    'Rohtak': 'Rohtak',\n",
    "    'Nagpur': 'Nagpur',\n",
    "    'Udaipur': 'Udaipur',\n",
    "    'Patna': 'Patna',\n",
    "    'Salem': 'Salem',\n",
    "    'Nasikcity': 'Nashik',\n",
    "    'Technopark, Trivandrum': 'Thiruvananthapuram',\n",
    "    'Bharuch': 'Bharuch',\n",
    "    'Tornagallu': 'Tornagallu',\n",
    "    'Jaspur': 'Jaspur',\n",
    "    'Burdwan': 'Bardhaman',\n",
    "    'Shimla': 'Shimla',\n",
    "    'Ahmedabad': 'Ahmedabad',\n",
    "    'Jammu': 'Jammu',\n",
    "    'Shahdol': 'Shahdol',\n",
    "    'Muvattupuzha': 'Muvattupuzha',\n",
    "    'Secunderabad': 'Secunderabad',\n",
    "    'Ratnagiri': 'Ratnagiri',\n",
    "    'Jhajjar': 'Jhajjar',\n",
    "    'Gulbarga': 'Gulbarga',\n",
    "    'Nalagarh': 'Nalagarh',\n",
    "    'Jaipur': 'Jaipur',\n",
    "    'Patna': 'Patna',\n",
    "    'Howrah': 'Howrah',\n",
    "    'Ambala': 'Ambala',\n",
    "    'Khopoli': 'Khopoli',\n",
    "    'Roorkee': 'Roorkee',\n",
    "    'Allahabad': 'Allahabad',\n",
    "    'Panchkula': 'Panchkula',\n",
    "    'Ranchi': 'Ranchi',\n",
    "    'Jalandhar': 'Jalandhar',\n",
    "    'Vapi': 'Vapi',\n",
    "    'Pilani': 'Pilani',\n",
    "    'Ras al Khaimah': 'Ras al Khaimah',\n",
    "    'Bihar': 'Bihar',\n",
    "    'Singrauli': 'Singrauli',\n",
    "    'Kanpur': 'Kanpur',\n",
    "    'Pondy': 'Puducherry'\n",
    "}\n",
    "\n",
    "# Replace inconsistent names with consistent names\n",
    "temp = df['City'].replace(unique_names)\n",
    "\n",
    "temp = temp.apply(lambda x: x.lower()).apply(lambda x: x.strip())\n",
    "df['City'] = temp"
   ]
  },
  {
   "cell_type": "code",
   "execution_count": 11,
   "metadata": {},
   "outputs": [],
   "source": [
    "df['Cuisine1'] = df['Cuisine'].apply(lambda x: x.split(',')[0])\n",
    "df['Cuisine2'] = df['Cuisine'].apply(lambda x: x.split(',')[1])\n",
    "df.drop('Cuisine', axis=1, inplace=True)"
   ]
  },
  {
   "cell_type": "code",
   "execution_count": 12,
   "metadata": {},
   "outputs": [],
   "source": [
    "# label encoding for Cuisine1 and Cuisine2\n",
    "unique_cuisines = df['Cuisine1'].unique().tolist() + df['Cuisine2'].unique().tolist()\n",
    "\n",
    "cuisine_dict = {}\n",
    "i = 1\n",
    "for cuisine in unique_cuisines:\n",
    "    if cuisine not in cuisine_dict:\n",
    "        cuisine_dict[cuisine] = i\n",
    "        i += 1\n",
    "    \n",
    "df['Cuisine1'] = df['Cuisine1'].map(cuisine_dict)\n",
    "df['Cuisine2'] = df['Cuisine2'].map(cuisine_dict)"
   ]
  },
  {
   "cell_type": "markdown",
   "metadata": {},
   "source": [
    "### Data Transformation"
   ]
  },
  {
   "cell_type": "code",
   "execution_count": 13,
   "metadata": {},
   "outputs": [],
   "source": [
    "# Label Encoding for other categorical variables\n",
    "\n",
    "from sklearn.preprocessing import LabelEncoder\n",
    "\n",
    "le = LabelEncoder()\n",
    "\n",
    "cols = ['City', 'Restaurant Location', 'Restaurant Type', 'Endorsed By', 'Restaurant Theme']\n",
    "\n",
    "for col in cols:\n",
    "    df[col] = le.fit_transform(df[col])"
   ]
  },
  {
   "cell_type": "code",
   "execution_count": 14,
   "metadata": {},
   "outputs": [],
   "source": [
    "# opening day of restaurant into ordinal date\n",
    "df['Opening Day of Restaurant'] = pd.to_datetime(df['Opening Day of Restaurant'], format='%d/%m/%y').apply(lambda x: x.toordinal())    "
   ]
  },
  {
   "cell_type": "code",
   "execution_count": 15,
   "metadata": {},
   "outputs": [
    {
     "name": "stdout",
     "output_type": "stream",
     "text": [
      "<class 'pandas.core.frame.DataFrame'>\n",
      "RangeIndex: 3493 entries, 0 to 3492\n",
      "Data columns (total 32 columns):\n",
      " #   Column                         Non-Null Count  Dtype  \n",
      "---  ------                         --------------  -----  \n",
      " 0   Annual Turnover                3493 non-null   int64  \n",
      " 1   City                           3493 non-null   int64  \n",
      " 2   Restaurant Location            3493 non-null   int64  \n",
      " 3   Opening Day of Restaurant      3493 non-null   int64  \n",
      " 4   Facebook Popularity Quotient   3493 non-null   float64\n",
      " 5   Endorsed By                    3493 non-null   int64  \n",
      " 6   Instagram Popularity Quotient  3493 non-null   float64\n",
      " 7   Fire Audit                     3493 non-null   int64  \n",
      " 8   Situated in a Multi Complex    3493 non-null   int64  \n",
      " 9   Dedicated Parking              3493 non-null   int64  \n",
      " 10  Open Sitting Available         3493 non-null   int64  \n",
      " 11  Resturant Tier                 3493 non-null   float64\n",
      " 12  Restaurant Type                3493 non-null   int64  \n",
      " 13  Restaurant Theme               3493 non-null   int64  \n",
      " 14  Restaurant Zomato Rating       3493 non-null   int64  \n",
      " 15  Restaurant City Tier           3493 non-null   int64  \n",
      " 16  Order Wait Time                3493 non-null   int64  \n",
      " 17  Staff Responsivness            3493 non-null   int64  \n",
      " 18  Value for Money                3493 non-null   int64  \n",
      " 19  Hygiene Rating                 3493 non-null   int64  \n",
      " 20  Food Rating                    3493 non-null   int64  \n",
      " 21  Overall Restaurant Rating      3493 non-null   float64\n",
      " 22  Live Music Rating              3493 non-null   float64\n",
      " 23  Comedy Gigs Rating             3493 non-null   float64\n",
      " 24  Value Deals Rating             3493 non-null   float64\n",
      " 25  Ambience                       3493 non-null   float64\n",
      " 26  Lively                         3493 non-null   int64  \n",
      " 27  Service                        3493 non-null   int64  \n",
      " 28  Comfortablility                3493 non-null   int64  \n",
      " 29  Privacy                        3493 non-null   int64  \n",
      " 30  Cuisine1                       3493 non-null   int64  \n",
      " 31  Cuisine2                       3493 non-null   int64  \n",
      "dtypes: float64(8), int64(24)\n",
      "memory usage: 873.4 KB\n"
     ]
    }
   ],
   "source": [
    "df.info()"
   ]
  },
  {
   "cell_type": "code",
   "execution_count": 16,
   "metadata": {},
   "outputs": [
    {
     "data": {
      "text/plain": [
       "Annual Turnover                  0\n",
       "City                             0\n",
       "Restaurant Location              0\n",
       "Opening Day of Restaurant        0\n",
       "Facebook Popularity Quotient     0\n",
       "Endorsed By                      0\n",
       "Instagram Popularity Quotient    0\n",
       "Fire Audit                       0\n",
       "Situated in a Multi Complex      0\n",
       "Dedicated Parking                0\n",
       "Open Sitting Available           0\n",
       "Resturant Tier                   0\n",
       "Restaurant Type                  0\n",
       "Restaurant Theme                 0\n",
       "Restaurant Zomato Rating         0\n",
       "Restaurant City Tier             0\n",
       "Order Wait Time                  0\n",
       "Staff Responsivness              0\n",
       "Value for Money                  0\n",
       "Hygiene Rating                   0\n",
       "Food Rating                      0\n",
       "Overall Restaurant Rating        0\n",
       "Live Music Rating                0\n",
       "Comedy Gigs Rating               0\n",
       "Value Deals Rating               0\n",
       "Ambience                         0\n",
       "Lively                           0\n",
       "Service                          0\n",
       "Comfortablility                  0\n",
       "Privacy                          0\n",
       "Cuisine1                         0\n",
       "Cuisine2                         0\n",
       "dtype: int64"
      ]
     },
     "execution_count": 16,
     "metadata": {},
     "output_type": "execute_result"
    }
   ],
   "source": [
    "df.isna().sum()"
   ]
  },
  {
   "cell_type": "markdown",
   "metadata": {},
   "source": [
    "### 5. Data Validation\n",
    "\n",
    "Data validation in machine learning refers to the process of checking and ensuring that the input data used for training and testing models is correct, relevant, and representative of the real-world scenario the model will be used for. It can involve following steps:\n",
    "- Data type validation\n",
    "- Range Validation(e.g-person age should not be negative)\n",
    "- Consistency check(e.g.-logical relationship between different features.)\n"
   ]
  },
  {
   "cell_type": "code",
   "execution_count": 17,
   "metadata": {},
   "outputs": [],
   "source": [
    "# data validation for numeric type\n",
    "\n",
    "for col in df.columns:\n",
    "    if df[col].dtype == 'float64' or df[col].dtype == 'int64':\n",
    "        pass\n",
    "    else:\n",
    "        print(\"Data validation failed for column: \", col, \" as it is not of numeric type\")\n",
    "        \n",
    "# data validation check for missing values\n",
    "for col in df.columns:\n",
    "    if df[col].isna().sum() > 0:\n",
    "        print(\"Data validation failed for column: \", col, \" as it has missing values\")\n",
    "\n",
    "# data validation for rating should be between 0 and 10\n",
    "for col in df.columns:\n",
    "    if 'Rating' in col:\n",
    "        if df[col].min() < 0 or df[col].max() > 10:\n",
    "            print(\"Data validation failed for column: `\", col, \"` as rating is not between 0 and 10\")"
   ]
  },
  {
   "cell_type": "code",
   "execution_count": 18,
   "metadata": {},
   "outputs": [
    {
     "data": {
      "text/plain": [
       "{'tests': [{'name': 'The Number of Columns With Missing Values',\n",
       "   'description': 'The number of columns with missing values is 0. The test threshold is eq=0.',\n",
       "   'status': 'SUCCESS',\n",
       "   'group': 'data_integrity',\n",
       "   'parameters': {'condition': {'eq': 0}, 'value': 0.0}},\n",
       "  {'name': 'The Number Of Rows With Missing Values',\n",
       "   'description': 'The number of rows with missing values is 0. The test threshold is eq=0.',\n",
       "   'status': 'SUCCESS',\n",
       "   'group': 'data_integrity',\n",
       "   'parameters': {'condition': {'eq': 0}, 'value': 0.0}},\n",
       "  {'name': 'Number of Constant Columns',\n",
       "   'description': 'The number of constant columns is 0. The test threshold is eq=0.',\n",
       "   'status': 'SUCCESS',\n",
       "   'group': 'data_integrity',\n",
       "   'parameters': {'condition': {'eq': 0}, 'value': 0.0}},\n",
       "  {'name': 'Number of Duplicate Rows',\n",
       "   'description': 'The number of duplicate rows is 0. The test threshold is eq=0.',\n",
       "   'status': 'SUCCESS',\n",
       "   'group': 'data_integrity',\n",
       "   'parameters': {'condition': {'eq': 0}, 'value': 0.0}},\n",
       "  {'name': 'Number of Duplicate Columns',\n",
       "   'description': 'The number of duplicate columns is 0. The test threshold is eq=0.',\n",
       "   'status': 'SUCCESS',\n",
       "   'group': 'data_integrity',\n",
       "   'parameters': {'condition': {'eq': 0}, 'value': 0.0}},\n",
       "  {'name': 'Column Types',\n",
       "   'description': 'Cannot compare column types without conditions or a reference',\n",
       "   'status': 'ERROR',\n",
       "   'group': 'data_integrity',\n",
       "   'parameters': None}],\n",
       " 'summary': {'all_passed': False,\n",
       "  'total_tests': 6,\n",
       "  'success_tests': 5,\n",
       "  'failed_tests': 0,\n",
       "  'by_status': {'SUCCESS': 5, 'ERROR': 1}}}"
      ]
     },
     "execution_count": 18,
     "metadata": {},
     "output_type": "execute_result"
    }
   ],
   "source": [
    "## Data stability check using evidently\n",
    "\n",
    "from evidently.test_suite import TestSuite\n",
    "from evidently.tests.base_test import generate_column_tests\n",
    "from evidently.test_preset import DataStabilityTestPreset, NoTargetPerformanceTestPreset\n",
    "from evidently.tests import *\n",
    "\n",
    "tests = TestSuite(tests=[\n",
    "    TestNumberOfColumnsWithMissingValues(),\n",
    "    TestNumberOfRowsWithMissingValues(),\n",
    "    TestNumberOfConstantColumns(),\n",
    "    TestNumberOfDuplicatedRows(),\n",
    "    TestNumberOfDuplicatedColumns(),\n",
    "    TestColumnsType(),\n",
    "])\n",
    "\n",
    "tests.run(reference_data=None, current_data=df)\n",
    "tests.as_dict()"
   ]
  },
  {
   "cell_type": "code",
   "execution_count": 24,
   "metadata": {},
   "outputs": [
    {
     "data": {
      "text/plain": [
       "Index(['Annual Turnover', 'City', 'Restaurant Location',\n",
       "       'Opening Day of Restaurant', 'Facebook Popularity Quotient',\n",
       "       'Endorsed By', 'Instagram Popularity Quotient', 'Fire Audit',\n",
       "       'Situated in a Multi Complex', 'Dedicated Parking',\n",
       "       'Open Sitting Available', 'Resturant Tier', 'Restaurant Type',\n",
       "       'Restaurant Theme', 'Restaurant Zomato Rating', 'Restaurant City Tier',\n",
       "       'Order Wait Time', 'Staff Responsivness', 'Value for Money',\n",
       "       'Hygiene Rating', 'Food Rating', 'Overall Restaurant Rating',\n",
       "       'Live Music Rating', 'Comedy Gigs Rating', 'Value Deals Rating',\n",
       "       'Ambience', 'Lively', 'Service', 'Comfortablility', 'Privacy',\n",
       "       'Cuisine1', 'Cuisine2'],\n",
       "      dtype='object')"
      ]
     },
     "execution_count": 24,
     "metadata": {},
     "output_type": "execute_result"
    }
   ],
   "source": [
    "df.columns"
   ]
  },
  {
   "cell_type": "code",
   "execution_count": 26,
   "metadata": {},
   "outputs": [
    {
     "data": {
      "text/plain": [
       "{\n",
       "  \"success\": true,\n",
       "  \"result\": {\n",
       "    \"element_count\": 3493,\n",
       "    \"missing_count\": 0,\n",
       "    \"missing_percent\": 0.0,\n",
       "    \"unexpected_count\": 0,\n",
       "    \"unexpected_percent\": 0.0,\n",
       "    \"unexpected_percent_total\": 0.0,\n",
       "    \"unexpected_percent_nonmissing\": 0.0,\n",
       "    \"partial_unexpected_list\": []\n",
       "  },\n",
       "  \"meta\": {},\n",
       "  \"exception_info\": {\n",
       "    \"raised_exception\": false,\n",
       "    \"exception_traceback\": null,\n",
       "    \"exception_message\": null\n",
       "  }\n",
       "}"
      ]
     },
     "execution_count": 26,
     "metadata": {},
     "output_type": "execute_result"
    }
   ],
   "source": [
    "## Data Validation using great expectations\n",
    "import great_expectations as ge\n",
    "\n",
    "gedf = ge.from_pandas(df)\n",
    "\n",
    "gedf.expect_column_values_to_be_in_set('Restaurant Type', [0, 1, 2, 3])"
   ]
  },
  {
   "cell_type": "code",
   "execution_count": 83,
   "metadata": {},
   "outputs": [],
   "source": [
    "# saving the cleaned data\n",
    "df.to_csv('../data/cleaned-data-restaurant.csv', index=False)"
   ]
  },
  {
   "cell_type": "markdown",
   "metadata": {},
   "source": [
    "### Data Split & Normalization(Part of Data preparation)"
   ]
  },
  {
   "cell_type": "code",
   "execution_count": 84,
   "metadata": {},
   "outputs": [],
   "source": [
    "from sklearn.model_selection import train_test_split, GridSearchCV\n",
    "\n",
    "X = df.drop('Annual Turnover', axis=1)\n",
    "y = df['Annual Turnover']\n",
    "\n",
    "X_train, X_test, y_train, y_test = train_test_split(X, y, test_size=0.2, random_state=42)"
   ]
  },
  {
   "cell_type": "markdown",
   "metadata": {},
   "source": [
    "### 6. Model Traning\n",
    "\n",
    "Train the machine learning model on the preprared data. This involves selecting a suitable algorithm and then using the training data to adjust the model's parameters."
   ]
  },
  {
   "cell_type": "code",
   "execution_count": 85,
   "metadata": {},
   "outputs": [
    {
     "data": {
      "text/html": [
       "<style>#sk-container-id-2 {color: black;}#sk-container-id-2 pre{padding: 0;}#sk-container-id-2 div.sk-toggleable {background-color: white;}#sk-container-id-2 label.sk-toggleable__label {cursor: pointer;display: block;width: 100%;margin-bottom: 0;padding: 0.3em;box-sizing: border-box;text-align: center;}#sk-container-id-2 label.sk-toggleable__label-arrow:before {content: \"▸\";float: left;margin-right: 0.25em;color: #696969;}#sk-container-id-2 label.sk-toggleable__label-arrow:hover:before {color: black;}#sk-container-id-2 div.sk-estimator:hover label.sk-toggleable__label-arrow:before {color: black;}#sk-container-id-2 div.sk-toggleable__content {max-height: 0;max-width: 0;overflow: hidden;text-align: left;background-color: #f0f8ff;}#sk-container-id-2 div.sk-toggleable__content pre {margin: 0.2em;color: black;border-radius: 0.25em;background-color: #f0f8ff;}#sk-container-id-2 input.sk-toggleable__control:checked~div.sk-toggleable__content {max-height: 200px;max-width: 100%;overflow: auto;}#sk-container-id-2 input.sk-toggleable__control:checked~label.sk-toggleable__label-arrow:before {content: \"▾\";}#sk-container-id-2 div.sk-estimator input.sk-toggleable__control:checked~label.sk-toggleable__label {background-color: #d4ebff;}#sk-container-id-2 div.sk-label input.sk-toggleable__control:checked~label.sk-toggleable__label {background-color: #d4ebff;}#sk-container-id-2 input.sk-hidden--visually {border: 0;clip: rect(1px 1px 1px 1px);clip: rect(1px, 1px, 1px, 1px);height: 1px;margin: -1px;overflow: hidden;padding: 0;position: absolute;width: 1px;}#sk-container-id-2 div.sk-estimator {font-family: monospace;background-color: #f0f8ff;border: 1px dotted black;border-radius: 0.25em;box-sizing: border-box;margin-bottom: 0.5em;}#sk-container-id-2 div.sk-estimator:hover {background-color: #d4ebff;}#sk-container-id-2 div.sk-parallel-item::after {content: \"\";width: 100%;border-bottom: 1px solid gray;flex-grow: 1;}#sk-container-id-2 div.sk-label:hover label.sk-toggleable__label {background-color: #d4ebff;}#sk-container-id-2 div.sk-serial::before {content: \"\";position: absolute;border-left: 1px solid gray;box-sizing: border-box;top: 0;bottom: 0;left: 50%;z-index: 0;}#sk-container-id-2 div.sk-serial {display: flex;flex-direction: column;align-items: center;background-color: white;padding-right: 0.2em;padding-left: 0.2em;position: relative;}#sk-container-id-2 div.sk-item {position: relative;z-index: 1;}#sk-container-id-2 div.sk-parallel {display: flex;align-items: stretch;justify-content: center;background-color: white;position: relative;}#sk-container-id-2 div.sk-item::before, #sk-container-id-2 div.sk-parallel-item::before {content: \"\";position: absolute;border-left: 1px solid gray;box-sizing: border-box;top: 0;bottom: 0;left: 50%;z-index: -1;}#sk-container-id-2 div.sk-parallel-item {display: flex;flex-direction: column;z-index: 1;position: relative;background-color: white;}#sk-container-id-2 div.sk-parallel-item:first-child::after {align-self: flex-end;width: 50%;}#sk-container-id-2 div.sk-parallel-item:last-child::after {align-self: flex-start;width: 50%;}#sk-container-id-2 div.sk-parallel-item:only-child::after {width: 0;}#sk-container-id-2 div.sk-dashed-wrapped {border: 1px dashed gray;margin: 0 0.4em 0.5em 0.4em;box-sizing: border-box;padding-bottom: 0.4em;background-color: white;}#sk-container-id-2 div.sk-label label {font-family: monospace;font-weight: bold;display: inline-block;line-height: 1.2em;}#sk-container-id-2 div.sk-label-container {text-align: center;}#sk-container-id-2 div.sk-container {/* jupyter's `normalize.less` sets `[hidden] { display: none; }` but bootstrap.min.css set `[hidden] { display: none !important; }` so we also need the `!important` here to be able to override the default hidden behavior on the sphinx rendered scikit-learn.org. See: https://github.com/scikit-learn/scikit-learn/issues/21755 */display: inline-block !important;position: relative;}#sk-container-id-2 div.sk-text-repr-fallback {display: none;}</style><div id=\"sk-container-id-2\" class=\"sk-top-container\"><div class=\"sk-text-repr-fallback\"><pre>DecisionTreeRegressor(random_state=42)</pre><b>In a Jupyter environment, please rerun this cell to show the HTML representation or trust the notebook. <br />On GitHub, the HTML representation is unable to render, please try loading this page with nbviewer.org.</b></div><div class=\"sk-container\" hidden><div class=\"sk-item\"><div class=\"sk-estimator sk-toggleable\"><input class=\"sk-toggleable__control sk-hidden--visually\" id=\"sk-estimator-id-2\" type=\"checkbox\" checked><label for=\"sk-estimator-id-2\" class=\"sk-toggleable__label sk-toggleable__label-arrow\">DecisionTreeRegressor</label><div class=\"sk-toggleable__content\"><pre>DecisionTreeRegressor(random_state=42)</pre></div></div></div></div></div>"
      ],
      "text/plain": [
       "DecisionTreeRegressor(random_state=42)"
      ]
     },
     "execution_count": 85,
     "metadata": {},
     "output_type": "execute_result"
    }
   ],
   "source": [
    "from sklearn.tree import DecisionTreeRegressor\n",
    "\n",
    "model = DecisionTreeRegressor(random_state=42)\n",
    "\n",
    "model.fit(X_train, y_train)"
   ]
  },
  {
   "cell_type": "markdown",
   "metadata": {},
   "source": [
    "### 7. Model Evaluation\n",
    "Assess the performance of the trained model. This typically involves using a separate test set of data and then calculating performance metrics like accuracy, precision, recall, or AUC-ROC."
   ]
  },
  {
   "cell_type": "code",
   "execution_count": 86,
   "metadata": {},
   "outputs": [],
   "source": [
    "y_pred = model.predict(X_test)"
   ]
  },
  {
   "cell_type": "code",
   "execution_count": 87,
   "metadata": {},
   "outputs": [
    {
     "name": "stdout",
     "output_type": "stream",
     "text": [
      "29307646.445941135\n"
     ]
    }
   ],
   "source": [
    "from sklearn.metrics import mean_squared_error\n",
    "import numpy as np\n",
    "\n",
    "rmse = np.sqrt(mean_squared_error(y_test, y_pred))\n",
    "\n",
    "print(rmse)"
   ]
  },
  {
   "cell_type": "markdown",
   "metadata": {},
   "source": [
    "### 8. Model Optimization(Hyper Parameter Tuning)\n",
    "Tune the model's parameters to improve its performance. This could involve techniques like grid search or random search."
   ]
  },
  {
   "cell_type": "code",
   "execution_count": 88,
   "metadata": {},
   "outputs": [],
   "source": [
    "param_grid = {\n",
    "    'max_depth': [None, 5, 10, 15],\n",
    "    'min_samples_split': [2, 5, 10],\n",
    "    'min_samples_leaf': [1, 2, 4]\n",
    "}\n",
    "\n",
    "# Instantiate the DecisionTreeRegressor model\n",
    "model = DecisionTreeRegressor(random_state=42)\n",
    "\n",
    "# Perform GridSearchCV to find the best hyperparameters\n",
    "grid_search = GridSearchCV(estimator=model, param_grid=param_grid, cv=5, scoring='neg_mean_squared_error', n_jobs=-1)\n",
    "grid_search.fit(X_train, y_train)\n",
    "\n",
    "# Get the best hyperparameters\n",
    "best_params = grid_search.best_params_"
   ]
  },
  {
   "cell_type": "code",
   "execution_count": 89,
   "metadata": {},
   "outputs": [
    {
     "data": {
      "text/plain": [
       "{'max_depth': 5, 'min_samples_leaf': 4, 'min_samples_split': 2}"
      ]
     },
     "execution_count": 89,
     "metadata": {},
     "output_type": "execute_result"
    }
   ],
   "source": [
    "best_params"
   ]
  },
  {
   "cell_type": "code",
   "execution_count": 90,
   "metadata": {},
   "outputs": [],
   "source": [
    "model = grid_search.best_estimator_"
   ]
  },
  {
   "cell_type": "code",
   "execution_count": 91,
   "metadata": {},
   "outputs": [],
   "source": [
    "y_pred = model.predict(X_test)"
   ]
  },
  {
   "cell_type": "code",
   "execution_count": 92,
   "metadata": {},
   "outputs": [
    {
     "name": "stdout",
     "output_type": "stream",
     "text": [
      "20311927.024230924\n"
     ]
    }
   ],
   "source": [
    "rmse = np.sqrt(mean_squared_error(y_test, y_pred))\n",
    "\n",
    "print(rmse)"
   ]
  },
  {
   "cell_type": "markdown",
   "metadata": {},
   "source": [
    "### 9. Model Analysis and Model Validation\n",
    "\n",
    "The model is confirmed to be adequate for deployment—that its predictive performance is better than a certain baseline. This is a offline step and require thourgh analysis of the model on various factors.\n",
    "\n",
    "For example: your newly trained customer churn model might produce an overall better predictive accuracy compared to the previous model, but the accuracy values per customer region might have large variance."
   ]
  },
  {
   "cell_type": "code",
   "execution_count": 93,
   "metadata": {},
   "outputs": [],
   "source": [
    "test_df = pd.read_csv('../data/test_separate.csv')\n",
    "test_df.drop('Registration Number', axis=1, inplace=True)"
   ]
  },
  {
   "cell_type": "code",
   "execution_count": 94,
   "metadata": {},
   "outputs": [],
   "source": [
    "y_pred_test = model.predict(test_df.iloc[:10, :])"
   ]
  },
  {
   "cell_type": "code",
   "execution_count": 95,
   "metadata": {},
   "outputs": [
    {
     "data": {
      "text/plain": [
       "array([24327956.98924731, 34241344.19551935, 34241344.19551935,\n",
       "       65633333.33333334, 34241344.19551935, 34241344.19551935,\n",
       "       41463963.96396396, 29365131.57894737, 27015217.39130435,\n",
       "       24327956.98924731])"
      ]
     },
     "execution_count": 95,
     "metadata": {},
     "output_type": "execute_result"
    }
   ],
   "source": [
    "y_pred_test"
   ]
  },
  {
   "cell_type": "markdown",
   "metadata": {},
   "source": [
    "### 10. Model Deployment\n",
    "\n",
    "Implement the trained model into a production environment where it can be used to make predictions on new data."
   ]
  },
  {
   "cell_type": "markdown",
   "metadata": {},
   "source": [
    "### 10. Model Monitoring and Maintenance\n",
    "\n",
    "Continuously monitor the model's performance over time and retrain it if necessary. This is important because the data the model encounters in the real world may change over time, causing the model's performance to degrade."
   ]
  }
 ],
 "metadata": {
  "kernelspec": {
   "display_name": "base",
   "language": "python",
   "name": "python3"
  },
  "language_info": {
   "codemirror_mode": {
    "name": "ipython",
    "version": 3
   },
   "file_extension": ".py",
   "mimetype": "text/x-python",
   "name": "python",
   "nbconvert_exporter": "python",
   "pygments_lexer": "ipython3",
   "version": "3.11.4"
  }
 },
 "nbformat": 4,
 "nbformat_minor": 2
}
